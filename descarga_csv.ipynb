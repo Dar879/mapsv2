{
 "cells": [
  {
   "cell_type": "code",
   "execution_count": 29,
   "metadata": {},
   "outputs": [
    {
     "name": "stderr",
     "output_type": "stream",
     "text": [
      "/tmp/ipykernel_90028/2032769034.py:17: DeprecationWarning: use options instead of chrome_options\n",
      "  driver = webdriver.Chrome(executable_path='/home/kali/programas/chromedriver-linux64/chromedriver', chrome_options=chrome_options)\n"
     ]
    }
   ],
   "source": [
    "import os\n",
    "from selenium import webdriver\n",
    "from selenium.webdriver.common.keys import Keys\n",
    "import time\n",
    "import glob\n",
    "chrome_binary_path = '/home/kali/programas/chrome-linux64/chrome'\n",
    "chrome_options = webdriver.ChromeOptions()\n",
    "chrome_options.binary_location = chrome_binary_path\n",
    "\n",
    "directorio_descarga = '/home/kali/datascience/code/mapas'\n",
    "prefs = {'download.default_directory' : directorio_descarga}\n",
    "chrome_options.add_experimental_option('prefs', prefs)\n",
    "\n",
    "\n",
    "\n",
    "# Inicializar el WebDriver (en este caso, Chrome) con las opciones de Chrome\n",
    "driver = webdriver.Chrome(executable_path='/home/kali/programas/chromedriver-linux64/chromedriver', chrome_options=chrome_options)\n",
    "\n",
    "# Abrir la página de Google\n",
    "driver.get(\"https://prod4.seace.gob.pe/openegocio/#/georeferenciacion\")\n",
    "\n",
    "# Encontrar la region de Puno\n",
    "puno = driver.find_element_by_css_selector('#world-map > div > svg > g:nth-child(2) > path:nth-child(12)')\n",
    "puno.click()\n",
    "time.sleep(3)\n",
    "# Descargar en formato csv todos los procedimientos\n",
    "archivo_csv=driver.find_element_by_xpath('/html/body/app-root/app-georeferenciacion/div/mat-sidenav-container/mat-sidenav-content/mat-card/div[4]/div/mat-card/div[1]/button[2]')\n",
    "archivo_csv.click()\n",
    "\n",
    "\n",
    "\n",
    "nombre_archivo_nuevo = sorted(glob.glob(os.path.join(directorio_descarga, '*')))[-1]\n",
    "\n",
    "#cambiar el nombre del archivo descargado\n",
    "\n",
    "ruta_archivo_descargado = os.path.join(directorio_descarga, nombre_archivo_nuevo)\n",
    "\n",
    "nuevo_nombre='datos.csv'\n",
    "ruta_nuevo_archivo = os.path.join(directorio_descarga, nuevo_nombre)\n",
    "os.rename(ruta_archivo_descargado, ruta_nuevo_archivo)\n",
    "\n",
    "\n",
    "time.sleep(5)\n",
    "\n",
    "# Cerrar el navegador\n",
    "driver.quit()\n",
    "\n",
    "\n",
    "\n"
   ]
  },
  {
   "cell_type": "code",
   "execution_count": null,
   "metadata": {},
   "outputs": [],
   "source": []
  }
 ],
 "metadata": {
  "kernelspec": {
   "display_name": "mapas",
   "language": "python",
   "name": "python3"
  },
  "language_info": {
   "codemirror_mode": {
    "name": "ipython",
    "version": 3
   },
   "file_extension": ".py",
   "mimetype": "text/x-python",
   "name": "python",
   "nbconvert_exporter": "python",
   "pygments_lexer": "ipython3",
   "version": "3.12.1"
  }
 },
 "nbformat": 4,
 "nbformat_minor": 2
}
